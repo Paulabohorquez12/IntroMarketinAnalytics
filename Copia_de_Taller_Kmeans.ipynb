{
  "nbformat": 4,
  "nbformat_minor": 0,
  "metadata": {
    "colab": {
      "provenance": []
    },
    "kernelspec": {
      "name": "python3",
      "display_name": "Python 3"
    },
    "language_info": {
      "name": "python"
    }
  },
  "cells": [
    {
      "cell_type": "markdown",
      "source": [
        "Taller de Segmentación de Clientes con K-means en Python\n",
        "Objetivo:\n",
        "Aprender a realizar la segmentación de clientes utilizando el algoritmo K-means en Python. Este taller te guiará en los pasos para cargar los datos, procesarlos, aplicar el modelo de clustering, y finalmente interpretar los resultados para obtener grupos de clientes con características similares."
      ],
      "metadata": {
        "id": "2eVgbP6LglrG"
      }
    },
    {
      "cell_type": "code",
      "execution_count": null,
      "metadata": {
        "colab": {
          "base_uri": "https://localhost:8080/"
        },
        "id": "BqsKqANLbKE7",
        "outputId": "f94e8470-2143-41bc-8fcd-d209639158ce"
      },
      "outputs": [
        {
          "output_type": "stream",
          "name": "stdout",
          "text": [
            "--2025-04-29 14:02:28--  https://github.com/javierherrera1996/lecture_analytics/raw/refs/heads/main/Mall_Customers.csv\n",
            "Resolving github.com (github.com)... 20.27.177.113\n",
            "Connecting to github.com (github.com)|20.27.177.113|:443... connected.\n",
            "HTTP request sent, awaiting response... 302 Found\n",
            "Location: https://raw.githubusercontent.com/javierherrera1996/lecture_analytics/refs/heads/main/Mall_Customers.csv [following]\n",
            "--2025-04-29 14:02:28--  https://raw.githubusercontent.com/javierherrera1996/lecture_analytics/refs/heads/main/Mall_Customers.csv\n",
            "Resolving raw.githubusercontent.com (raw.githubusercontent.com)... 185.199.108.133, 185.199.109.133, 185.199.110.133, ...\n",
            "Connecting to raw.githubusercontent.com (raw.githubusercontent.com)|185.199.108.133|:443... connected.\n",
            "HTTP request sent, awaiting response... 200 OK\n",
            "Length: 3981 (3.9K) [text/plain]\n",
            "Saving to: ‘Mall_Customers.csv’\n",
            "\n",
            "Mall_Customers.csv  100%[===================>]   3.89K  --.-KB/s    in 0s      \n",
            "\n",
            "2025-04-29 14:02:30 (52.7 MB/s) - ‘Mall_Customers.csv’ saved [3981/3981]\n",
            "\n"
          ]
        }
      ],
      "source": [
        "!wget https://github.com/javierherrera1996/lecture_analytics/raw/refs/heads/main/Mall_Customers.csv"
      ]
    },
    {
      "cell_type": "code",
      "source": [
        "import pandas as pd\n",
        "import numpy as np\n",
        "import matplotlib.pyplot as plt\n",
        "from sklearn.cluster import KMeans\n",
        "from sklearn.preprocessing import StandardScaler\n",
        "data = pd.read_csv('Mall_Customers.csv')"
      ],
      "metadata": {
        "id": "4NXRM_y_JSod"
      },
      "execution_count": null,
      "outputs": []
    },
    {
      "cell_type": "code",
      "source": [
        "data.head()"
      ],
      "metadata": {
        "id": "Nvs_UqydJXAx",
        "outputId": "89dac491-09e7-4d35-f350-b88e9350888d",
        "colab": {
          "base_uri": "https://localhost:8080/",
          "height": 206
        }
      },
      "execution_count": null,
      "outputs": [
        {
          "output_type": "execute_result",
          "data": {
            "text/plain": [
              "   CustomerID  Gender  Age  Annual Income (k$)  Spending Score (1-100)\n",
              "0           1    Male   19                  15                      39\n",
              "1           2    Male   21                  15                      81\n",
              "2           3  Female   20                  16                       6\n",
              "3           4  Female   23                  16                      77\n",
              "4           5  Female   31                  17                      40"
            ],
            "text/html": [
              "\n",
              "  <div id=\"df-dcd499e0-745f-4d4f-9f3e-38f8b66283ba\" class=\"colab-df-container\">\n",
              "    <div>\n",
              "<style scoped>\n",
              "    .dataframe tbody tr th:only-of-type {\n",
              "        vertical-align: middle;\n",
              "    }\n",
              "\n",
              "    .dataframe tbody tr th {\n",
              "        vertical-align: top;\n",
              "    }\n",
              "\n",
              "    .dataframe thead th {\n",
              "        text-align: right;\n",
              "    }\n",
              "</style>\n",
              "<table border=\"1\" class=\"dataframe\">\n",
              "  <thead>\n",
              "    <tr style=\"text-align: right;\">\n",
              "      <th></th>\n",
              "      <th>CustomerID</th>\n",
              "      <th>Gender</th>\n",
              "      <th>Age</th>\n",
              "      <th>Annual Income (k$)</th>\n",
              "      <th>Spending Score (1-100)</th>\n",
              "    </tr>\n",
              "  </thead>\n",
              "  <tbody>\n",
              "    <tr>\n",
              "      <th>0</th>\n",
              "      <td>1</td>\n",
              "      <td>Male</td>\n",
              "      <td>19</td>\n",
              "      <td>15</td>\n",
              "      <td>39</td>\n",
              "    </tr>\n",
              "    <tr>\n",
              "      <th>1</th>\n",
              "      <td>2</td>\n",
              "      <td>Male</td>\n",
              "      <td>21</td>\n",
              "      <td>15</td>\n",
              "      <td>81</td>\n",
              "    </tr>\n",
              "    <tr>\n",
              "      <th>2</th>\n",
              "      <td>3</td>\n",
              "      <td>Female</td>\n",
              "      <td>20</td>\n",
              "      <td>16</td>\n",
              "      <td>6</td>\n",
              "    </tr>\n",
              "    <tr>\n",
              "      <th>3</th>\n",
              "      <td>4</td>\n",
              "      <td>Female</td>\n",
              "      <td>23</td>\n",
              "      <td>16</td>\n",
              "      <td>77</td>\n",
              "    </tr>\n",
              "    <tr>\n",
              "      <th>4</th>\n",
              "      <td>5</td>\n",
              "      <td>Female</td>\n",
              "      <td>31</td>\n",
              "      <td>17</td>\n",
              "      <td>40</td>\n",
              "    </tr>\n",
              "  </tbody>\n",
              "</table>\n",
              "</div>\n",
              "    <div class=\"colab-df-buttons\">\n",
              "\n",
              "  <div class=\"colab-df-container\">\n",
              "    <button class=\"colab-df-convert\" onclick=\"convertToInteractive('df-dcd499e0-745f-4d4f-9f3e-38f8b66283ba')\"\n",
              "            title=\"Convert this dataframe to an interactive table.\"\n",
              "            style=\"display:none;\">\n",
              "\n",
              "  <svg xmlns=\"http://www.w3.org/2000/svg\" height=\"24px\" viewBox=\"0 -960 960 960\">\n",
              "    <path d=\"M120-120v-720h720v720H120Zm60-500h600v-160H180v160Zm220 220h160v-160H400v160Zm0 220h160v-160H400v160ZM180-400h160v-160H180v160Zm440 0h160v-160H620v160ZM180-180h160v-160H180v160Zm440 0h160v-160H620v160Z\"/>\n",
              "  </svg>\n",
              "    </button>\n",
              "\n",
              "  <style>\n",
              "    .colab-df-container {\n",
              "      display:flex;\n",
              "      gap: 12px;\n",
              "    }\n",
              "\n",
              "    .colab-df-convert {\n",
              "      background-color: #E8F0FE;\n",
              "      border: none;\n",
              "      border-radius: 50%;\n",
              "      cursor: pointer;\n",
              "      display: none;\n",
              "      fill: #1967D2;\n",
              "      height: 32px;\n",
              "      padding: 0 0 0 0;\n",
              "      width: 32px;\n",
              "    }\n",
              "\n",
              "    .colab-df-convert:hover {\n",
              "      background-color: #E2EBFA;\n",
              "      box-shadow: 0px 1px 2px rgba(60, 64, 67, 0.3), 0px 1px 3px 1px rgba(60, 64, 67, 0.15);\n",
              "      fill: #174EA6;\n",
              "    }\n",
              "\n",
              "    .colab-df-buttons div {\n",
              "      margin-bottom: 4px;\n",
              "    }\n",
              "\n",
              "    [theme=dark] .colab-df-convert {\n",
              "      background-color: #3B4455;\n",
              "      fill: #D2E3FC;\n",
              "    }\n",
              "\n",
              "    [theme=dark] .colab-df-convert:hover {\n",
              "      background-color: #434B5C;\n",
              "      box-shadow: 0px 1px 3px 1px rgba(0, 0, 0, 0.15);\n",
              "      filter: drop-shadow(0px 1px 2px rgba(0, 0, 0, 0.3));\n",
              "      fill: #FFFFFF;\n",
              "    }\n",
              "  </style>\n",
              "\n",
              "    <script>\n",
              "      const buttonEl =\n",
              "        document.querySelector('#df-dcd499e0-745f-4d4f-9f3e-38f8b66283ba button.colab-df-convert');\n",
              "      buttonEl.style.display =\n",
              "        google.colab.kernel.accessAllowed ? 'block' : 'none';\n",
              "\n",
              "      async function convertToInteractive(key) {\n",
              "        const element = document.querySelector('#df-dcd499e0-745f-4d4f-9f3e-38f8b66283ba');\n",
              "        const dataTable =\n",
              "          await google.colab.kernel.invokeFunction('convertToInteractive',\n",
              "                                                    [key], {});\n",
              "        if (!dataTable) return;\n",
              "\n",
              "        const docLinkHtml = 'Like what you see? Visit the ' +\n",
              "          '<a target=\"_blank\" href=https://colab.research.google.com/notebooks/data_table.ipynb>data table notebook</a>'\n",
              "          + ' to learn more about interactive tables.';\n",
              "        element.innerHTML = '';\n",
              "        dataTable['output_type'] = 'display_data';\n",
              "        await google.colab.output.renderOutput(dataTable, element);\n",
              "        const docLink = document.createElement('div');\n",
              "        docLink.innerHTML = docLinkHtml;\n",
              "        element.appendChild(docLink);\n",
              "      }\n",
              "    </script>\n",
              "  </div>\n",
              "\n",
              "\n",
              "    <div id=\"df-e7a8ee43-e7e5-48d8-97e5-2c2a7831d706\">\n",
              "      <button class=\"colab-df-quickchart\" onclick=\"quickchart('df-e7a8ee43-e7e5-48d8-97e5-2c2a7831d706')\"\n",
              "                title=\"Suggest charts\"\n",
              "                style=\"display:none;\">\n",
              "\n",
              "<svg xmlns=\"http://www.w3.org/2000/svg\" height=\"24px\"viewBox=\"0 0 24 24\"\n",
              "     width=\"24px\">\n",
              "    <g>\n",
              "        <path d=\"M19 3H5c-1.1 0-2 .9-2 2v14c0 1.1.9 2 2 2h14c1.1 0 2-.9 2-2V5c0-1.1-.9-2-2-2zM9 17H7v-7h2v7zm4 0h-2V7h2v10zm4 0h-2v-4h2v4z\"/>\n",
              "    </g>\n",
              "</svg>\n",
              "      </button>\n",
              "\n",
              "<style>\n",
              "  .colab-df-quickchart {\n",
              "      --bg-color: #E8F0FE;\n",
              "      --fill-color: #1967D2;\n",
              "      --hover-bg-color: #E2EBFA;\n",
              "      --hover-fill-color: #174EA6;\n",
              "      --disabled-fill-color: #AAA;\n",
              "      --disabled-bg-color: #DDD;\n",
              "  }\n",
              "\n",
              "  [theme=dark] .colab-df-quickchart {\n",
              "      --bg-color: #3B4455;\n",
              "      --fill-color: #D2E3FC;\n",
              "      --hover-bg-color: #434B5C;\n",
              "      --hover-fill-color: #FFFFFF;\n",
              "      --disabled-bg-color: #3B4455;\n",
              "      --disabled-fill-color: #666;\n",
              "  }\n",
              "\n",
              "  .colab-df-quickchart {\n",
              "    background-color: var(--bg-color);\n",
              "    border: none;\n",
              "    border-radius: 50%;\n",
              "    cursor: pointer;\n",
              "    display: none;\n",
              "    fill: var(--fill-color);\n",
              "    height: 32px;\n",
              "    padding: 0;\n",
              "    width: 32px;\n",
              "  }\n",
              "\n",
              "  .colab-df-quickchart:hover {\n",
              "    background-color: var(--hover-bg-color);\n",
              "    box-shadow: 0 1px 2px rgba(60, 64, 67, 0.3), 0 1px 3px 1px rgba(60, 64, 67, 0.15);\n",
              "    fill: var(--button-hover-fill-color);\n",
              "  }\n",
              "\n",
              "  .colab-df-quickchart-complete:disabled,\n",
              "  .colab-df-quickchart-complete:disabled:hover {\n",
              "    background-color: var(--disabled-bg-color);\n",
              "    fill: var(--disabled-fill-color);\n",
              "    box-shadow: none;\n",
              "  }\n",
              "\n",
              "  .colab-df-spinner {\n",
              "    border: 2px solid var(--fill-color);\n",
              "    border-color: transparent;\n",
              "    border-bottom-color: var(--fill-color);\n",
              "    animation:\n",
              "      spin 1s steps(1) infinite;\n",
              "  }\n",
              "\n",
              "  @keyframes spin {\n",
              "    0% {\n",
              "      border-color: transparent;\n",
              "      border-bottom-color: var(--fill-color);\n",
              "      border-left-color: var(--fill-color);\n",
              "    }\n",
              "    20% {\n",
              "      border-color: transparent;\n",
              "      border-left-color: var(--fill-color);\n",
              "      border-top-color: var(--fill-color);\n",
              "    }\n",
              "    30% {\n",
              "      border-color: transparent;\n",
              "      border-left-color: var(--fill-color);\n",
              "      border-top-color: var(--fill-color);\n",
              "      border-right-color: var(--fill-color);\n",
              "    }\n",
              "    40% {\n",
              "      border-color: transparent;\n",
              "      border-right-color: var(--fill-color);\n",
              "      border-top-color: var(--fill-color);\n",
              "    }\n",
              "    60% {\n",
              "      border-color: transparent;\n",
              "      border-right-color: var(--fill-color);\n",
              "    }\n",
              "    80% {\n",
              "      border-color: transparent;\n",
              "      border-right-color: var(--fill-color);\n",
              "      border-bottom-color: var(--fill-color);\n",
              "    }\n",
              "    90% {\n",
              "      border-color: transparent;\n",
              "      border-bottom-color: var(--fill-color);\n",
              "    }\n",
              "  }\n",
              "</style>\n",
              "\n",
              "      <script>\n",
              "        async function quickchart(key) {\n",
              "          const quickchartButtonEl =\n",
              "            document.querySelector('#' + key + ' button');\n",
              "          quickchartButtonEl.disabled = true;  // To prevent multiple clicks.\n",
              "          quickchartButtonEl.classList.add('colab-df-spinner');\n",
              "          try {\n",
              "            const charts = await google.colab.kernel.invokeFunction(\n",
              "                'suggestCharts', [key], {});\n",
              "          } catch (error) {\n",
              "            console.error('Error during call to suggestCharts:', error);\n",
              "          }\n",
              "          quickchartButtonEl.classList.remove('colab-df-spinner');\n",
              "          quickchartButtonEl.classList.add('colab-df-quickchart-complete');\n",
              "        }\n",
              "        (() => {\n",
              "          let quickchartButtonEl =\n",
              "            document.querySelector('#df-e7a8ee43-e7e5-48d8-97e5-2c2a7831d706 button');\n",
              "          quickchartButtonEl.style.display =\n",
              "            google.colab.kernel.accessAllowed ? 'block' : 'none';\n",
              "        })();\n",
              "      </script>\n",
              "    </div>\n",
              "\n",
              "    </div>\n",
              "  </div>\n"
            ],
            "application/vnd.google.colaboratory.intrinsic+json": {
              "type": "dataframe",
              "variable_name": "data",
              "summary": "{\n  \"name\": \"data\",\n  \"rows\": 200,\n  \"fields\": [\n    {\n      \"column\": \"CustomerID\",\n      \"properties\": {\n        \"dtype\": \"number\",\n        \"std\": 57,\n        \"min\": 1,\n        \"max\": 200,\n        \"num_unique_values\": 200,\n        \"samples\": [\n          96,\n          16,\n          31\n        ],\n        \"semantic_type\": \"\",\n        \"description\": \"\"\n      }\n    },\n    {\n      \"column\": \"Gender\",\n      \"properties\": {\n        \"dtype\": \"category\",\n        \"num_unique_values\": 2,\n        \"samples\": [\n          \"Female\",\n          \"Male\"\n        ],\n        \"semantic_type\": \"\",\n        \"description\": \"\"\n      }\n    },\n    {\n      \"column\": \"Age\",\n      \"properties\": {\n        \"dtype\": \"number\",\n        \"std\": 13,\n        \"min\": 18,\n        \"max\": 70,\n        \"num_unique_values\": 51,\n        \"samples\": [\n          55,\n          26\n        ],\n        \"semantic_type\": \"\",\n        \"description\": \"\"\n      }\n    },\n    {\n      \"column\": \"Annual Income (k$)\",\n      \"properties\": {\n        \"dtype\": \"number\",\n        \"std\": 26,\n        \"min\": 15,\n        \"max\": 137,\n        \"num_unique_values\": 64,\n        \"samples\": [\n          87,\n          101\n        ],\n        \"semantic_type\": \"\",\n        \"description\": \"\"\n      }\n    },\n    {\n      \"column\": \"Spending Score (1-100)\",\n      \"properties\": {\n        \"dtype\": \"number\",\n        \"std\": 25,\n        \"min\": 1,\n        \"max\": 99,\n        \"num_unique_values\": 84,\n        \"samples\": [\n          83,\n          39\n        ],\n        \"semantic_type\": \"\",\n        \"description\": \"\"\n      }\n    }\n  ]\n}"
            }
          },
          "metadata": {},
          "execution_count": 3
        }
      ]
    },
    {
      "cell_type": "markdown",
      "source": [
        "\n",
        "\n",
        "Parte 1: Carga y exploración de datos\n",
        "Instrucciones: Carga el siguiente conjunto de datos en un DataFrame de pandas. Luego, visualiza las primeras filas de los datos."
      ],
      "metadata": {
        "id": "K0A7b02Ydcz8"
      }
    },
    {
      "cell_type": "code",
      "source": [
        "import pandas as pd\n",
        "\n",
        "# URL del archivo CSV (basado en la información anterior)\n",
        "url = 'https://github.com/javierherrera1996/lecture_analytics/raw/refs/heads/main/Mall_Customers.csv'\n",
        "\n",
        "# Cargar el dataset en un DataFrame de pandas\n",
        "data = pd.read_csv(url)\n",
        "\n",
        "# Visualizar las primeras filas del DataFrame\n",
        "print(data.head())"
      ],
      "metadata": {
        "id": "z7NpkE8WghIf",
        "outputId": "87d47946-c140-4e95-fff9-aa1abcd6ba6e",
        "colab": {
          "base_uri": "https://localhost:8080/"
        }
      },
      "execution_count": null,
      "outputs": [
        {
          "output_type": "stream",
          "name": "stdout",
          "text": [
            "   CustomerID  Gender  Age  Annual Income (k$)  Spending Score (1-100)\n",
            "0           1    Male   19                  15                      39\n",
            "1           2    Male   21                  15                      81\n",
            "2           3  Female   20                  16                       6\n",
            "3           4  Female   23                  16                      77\n",
            "4           5  Female   31                  17                      40\n"
          ]
        }
      ]
    },
    {
      "cell_type": "markdown",
      "source": [
        "Pregunta 1: ¿Cuáles son las variables que contiene el conjunto de datos? Describe brevemente qué información proporciona cada variable."
      ],
      "metadata": {
        "id": "EMn45ZlqdhZj"
      }
    },
    {
      "cell_type": "markdown",
      "source": [
        "CustomerID: Este es un identificador único asignado a cada cliente dentro del dataset. Su propósito principal es distinguir un cliente de otro\n",
        "\n",
        "Gender: Esta variable categórica indica el género del cliente. Los valores observados en la muestra son \"Male\" (Masculino) y \"Female\" (Femenino).\n",
        "\n",
        "Age: Esta variable numérica representa la edad del cliente en años. Los valores observados son números enteros.\n",
        "\n",
        "Annual Income (k$): Esta variable numérica indica el ingreso anual del cliente expresado en miles de dólares.\n",
        "\n",
        "Spending Score (1-100): Esta variable numérica representa una puntuación asignada al cliente, probablemente por el centro comercial, basada en su comportamiento de gasto."
      ],
      "metadata": {
        "id": "Lb7ZX2_155vm"
      }
    },
    {
      "cell_type": "code",
      "source": [],
      "metadata": {
        "id": "gF2gJthDggwi"
      },
      "execution_count": null,
      "outputs": []
    },
    {
      "cell_type": "markdown",
      "source": [
        "Parte 2: Preprocesamiento de los datos\n",
        "Instrucciones: Convierte la columna Gender a una variable numérica, y luego selecciona las columnas que utilizarás para aplicar el modelo de K-means. Finalmente, normaliza los datos para que todas las variables estén en la misma escala."
      ],
      "metadata": {
        "id": "JT_q3-fgdhUB"
      }
    },
    {
      "cell_type": "code",
      "source": [
        "from sklearn.preprocessing import LabelEncoder\n",
        "from sklearn.preprocessing import StandardScaler\n",
        "import pandas as pd\n",
        "\n",
        "# Asumiendo que el DataFrame 'data' ya se cargó en la Parte 1\n",
        "\n",
        "# Paso 1: Convertir la columna 'Gender' a una variable numérica\n",
        "le = LabelEncoder()\n",
        "data['Gender_Encoded'] = le.fit_transform(data['Gender'])\n",
        "\n",
        "# Mostrar las primeras filas con la nueva columna codificada\n",
        "print(\"Primeras filas con 'Gender_Encoded':\")\n",
        "print(data[['Gender', 'Gender_Encoded']].head())\n",
        "print(\"\\n\")\n",
        "\n",
        "# Paso 2: Seleccionar las columnas para el modelo K-means\n",
        "X = data[['Age', 'Annual Income (k$)', 'Spending Score (1-100)', 'Gender_Encoded']]\n",
        "\n",
        "# Mostrar las primeras filas de las características seleccionadas\n",
        "print(\"Primeras filas de las características seleccionadas (X):\")\n",
        "print(X.head())\n",
        "print(\"\\n\")\n",
        "\n",
        "# Paso 3: Normalizar los datos\n",
        "scaler = StandardScaler()\n",
        "scaled_X = scaler.fit_transform(X)\n",
        "\n",
        "# Crear un nuevo DataFrame con los datos escalados (opcional, para inspección)\n",
        "scaled_df = pd.DataFrame(scaled_X, columns=X.columns)\n",
        "\n",
        "# Mostrar las primeras filas de los datos escalados\n",
        "print(\"Primeras filas de los datos escalados (scaled_df):\")\n",
        "print(scaled_df.head())"
      ],
      "metadata": {
        "id": "6USH_eSbggdh",
        "outputId": "c8952b82-f0cd-4888-d831-29ad5dc4edf3",
        "colab": {
          "base_uri": "https://localhost:8080/"
        }
      },
      "execution_count": null,
      "outputs": [
        {
          "output_type": "stream",
          "name": "stdout",
          "text": [
            "Primeras filas con 'Gender_Encoded':\n",
            "   Gender  Gender_Encoded\n",
            "0    Male               1\n",
            "1    Male               1\n",
            "2  Female               0\n",
            "3  Female               0\n",
            "4  Female               0\n",
            "\n",
            "\n",
            "Primeras filas de las características seleccionadas (X):\n",
            "   Age  Annual Income (k$)  Spending Score (1-100)  Gender_Encoded\n",
            "0   19                  15                      39               1\n",
            "1   21                  15                      81               1\n",
            "2   20                  16                       6               0\n",
            "3   23                  16                      77               0\n",
            "4   31                  17                      40               0\n",
            "\n",
            "\n",
            "Primeras filas de los datos escalados (scaled_df):\n",
            "        Age  Annual Income (k$)  Spending Score (1-100)  Gender_Encoded\n",
            "0 -1.424569           -1.738999               -0.434801        1.128152\n",
            "1 -1.281035           -1.738999                1.195704        1.128152\n",
            "2 -1.352802           -1.700830               -1.715913       -0.886405\n",
            "3 -1.137502           -1.700830                1.040418       -0.886405\n",
            "4 -0.563369           -1.662660               -0.395980       -0.886405\n"
          ]
        }
      ]
    },
    {
      "cell_type": "markdown",
      "source": [
        "Pregunta 2: ¿Por qué es importante normalizar los datos antes de aplicar el algoritmo K-means? Explica en qué consiste la normalización.\n",
        "\n"
      ],
      "metadata": {
        "id": "Hrs_qhbGdhJB"
      }
    },
    {
      "cell_type": "markdown",
      "source": [
        "la normalización de datos para K-means es clave porque este algoritmo se basa en calcular distancias entre los puntos, entonces, normalizar es poner todas las variables en una escala similar para que ninguna opaque a las demás. Así, cuando K-means calcula las distancias para agrupar los datos, todas las características tienen un peso más o menos equitativo."
      ],
      "metadata": {
        "id": "SsFaLK-K7jJA"
      }
    },
    {
      "cell_type": "code",
      "source": [],
      "metadata": {
        "id": "lbTygjCCggO8"
      },
      "execution_count": null,
      "outputs": []
    },
    {
      "cell_type": "markdown",
      "source": [
        "Parte 3: Método del codo para determinar el número óptimo de clusters\n",
        "Instrucciones: Utiliza el método del codo para determinar cuántos clusters son óptimos para el conjunto de datos.\n"
      ],
      "metadata": {
        "id": "wu2U5hqDd8HF"
      }
    },
    {
      "cell_type": "code",
      "source": [
        "from sklearn.cluster import KMeans\n",
        "import matplotlib.pyplot as plt\n",
        "\n",
        "# Lista para almacenar la inercia para diferentes valores de k\n",
        "inertia = []\n",
        "\n",
        "# Rango de valores de k que vamos a probar\n",
        "k_range = range(1, 11)\n",
        "\n",
        "# Entrenar el modelo K-means para cada valor de k y almacenar la inercia\n",
        "for k in k_range:\n",
        "    kmeans = KMeans(n_clusters=k, random_state=42, n_init=10) # Añadir n_init para evitar warning\n",
        "    kmeans.fit(scaled_X)\n",
        "    inertia.append(kmeans.inertia_)\n",
        "\n",
        "# Graficar el método del codo\n",
        "plt.figure(figsize=(10, 6))\n",
        "plt.plot(k_range, inertia, marker='o', linestyle='-')\n",
        "plt.title('Método del Codo para determinar el número óptimo de clusters')\n",
        "plt.xlabel('Número de Clusters (k)')\n",
        "plt.ylabel('Inercia')\n",
        "plt.xticks(k_range)\n",
        "plt.grid(True)\n",
        "plt.show()"
      ],
      "metadata": {
        "id": "N7RaxhFhgeIT",
        "outputId": "b9c53024-c7ec-46db-ddc9-996f5f82d483",
        "colab": {
          "base_uri": "https://localhost:8080/",
          "height": 565
        }
      },
      "execution_count": null,
      "outputs": [
        {
          "output_type": "display_data",
          "data": {
            "text/plain": [
              "<Figure size 1000x600 with 1 Axes>"
            ],
            "image/png": "[encoded data removed]"
          },
          "metadata": {}
        }
      ]
    },
    {
      "cell_type": "markdown",
      "source": [
        "Pregunta 3: Observa la gráfica obtenida. ¿En qué punto parece formarse el \"codo\"? ¿Cuántos clusters crees que sería apropiado usar para este ejercicio?"
      ],
      "metadata": {
        "id": "c8surdBod_8p"
      }
    },
    {
      "cell_type": "markdown",
      "source": [
        "En el punto 3 se forma el codo y El número de clusters adecuado es donde se forma un \"codo\" en la gráfica, es decir, donde la disminución de la inercia se vuelve más lenta. Ese punto indica el mejor valor para 'k', para este caso 3 sería un buen número de clusters."
      ],
      "metadata": {
        "id": "SH__-uUv8w3Y"
      }
    },
    {
      "cell_type": "code",
      "source": [],
      "metadata": {
        "id": "5v6WQcM9gdqp"
      },
      "execution_count": null,
      "outputs": []
    },
    {
      "cell_type": "markdown",
      "source": [
        "Parte 4: Ajuste del modelo K-means y asignación de clusters\n",
        "Instrucciones: Ajusta el modelo K-means con el número de clusters que determinaste en el paso anterior y asigna a cada cliente un número de cluster."
      ],
      "metadata": {
        "id": "wm_ptmRUgAfO"
      }
    },
    {
      "cell_type": "code",
      "source": [
        "from sklearn.cluster import KMeans\n",
        "\n",
        "# Número de clusters elegido (basado en el método del codo)\n",
        "n_clusters = 3\n",
        "\n",
        "# Inicializar y ajustar el modelo K-means\n",
        "kmeans = KMeans(n_clusters=n_clusters, random_state=42, n_init=10)\n",
        "kmeans.fit(scaled_X)\n",
        "\n",
        "# Asignar las etiquetas de los clusters al DataFrame original\n",
        "data['Cluster'] = kmeans.labels_\n",
        "\n",
        "# Mostrar las primeras filas del DataFrame con la asignación de clusters\n",
        "print(data.head())\n",
        "\n",
        "# Mostrar el conteo de clientes en cada cluster\n",
        "print(\"\\nConteo de clientes por cluster:\")\n",
        "print(data['Cluster'].value_counts())\n",
        "\n",
        "# Mostrar los centroides de los clusters (en la escala de los datos normalizados)\n",
        "print(\"\\nCentroides de los clusters (datos normalizados):\")\n",
        "print(kmeans.cluster_centers_)"
      ],
      "metadata": {
        "id": "RREKJomZgc-I",
        "outputId": "60e86bd1-ed9f-4d71-d4e1-9ccae5e83bc2",
        "colab": {
          "base_uri": "https://localhost:8080/"
        }
      },
      "execution_count": null,
      "outputs": [
        {
          "output_type": "stream",
          "name": "stdout",
          "text": [
            "   CustomerID  Gender  Age  Annual Income (k$)  Spending Score (1-100)  \\\n",
            "0           1    Male   19                  15                      39   \n",
            "1           2    Male   21                  15                      81   \n",
            "2           3  Female   20                  16                       6   \n",
            "3           4  Female   23                  16                      77   \n",
            "4           5  Female   31                  17                      40   \n",
            "\n",
            "   Gender_Encoded  Cluster  \n",
            "0               1        0  \n",
            "1               1        0  \n",
            "2               0        1  \n",
            "3               0        0  \n",
            "4               0        1  \n",
            "\n",
            "Conteo de clientes por cluster:\n",
            "Cluster\n",
            "0    85\n",
            "1    66\n",
            "2    49\n",
            "Name: count, dtype: int64\n",
            "\n",
            "Centroides de los clusters (datos normalizados):\n",
            "[[-0.77529133  0.04688104  0.88056434  0.03792108]\n",
            " [ 0.44680201 -0.10812358 -0.5442077  -0.88640526]\n",
            " [ 0.74307816  0.06431159 -0.79449512  1.12815215]]\n"
          ]
        }
      ]
    },
    {
      "cell_type": "markdown",
      "source": [
        "Pregunta 4: ¿Qué observas en los resultados? ¿Cómo se distribuyen los clientes en los diferentes clusters?"
      ],
      "metadata": {
        "id": "P4HQllXlgEQl"
      }
    },
    {
      "cell_type": "markdown",
      "source": [
        "los resultados muestran una nueva columna llamada 'Cluster' en nuestros datos, indicando a qué grupo pertenece cada cliente. Al ver el conteo de clientes por cada valor de 'Cluster' y se observa el tamaño de cada segmento de clientes que el algoritmo K-means ha identificado. Esta distribución nos da una idea inicial de cómo se agrupan los clientes según sus similitudes en los datos normalizados."
      ],
      "metadata": {
        "id": "bpiCOYuT91KZ"
      }
    },
    {
      "cell_type": "code",
      "source": [],
      "metadata": {
        "id": "ecbASNuBgcdh"
      },
      "execution_count": null,
      "outputs": []
    },
    {
      "cell_type": "markdown",
      "source": [
        "Parte 5: Análisis descriptivo de los clusters\n",
        "Instrucciones: Realiza un análisis descriptivo de cada cluster. Calcula la edad promedio, el ingreso anual y el puntaje de gasto promedio de cada grupo de clientes."
      ],
      "metadata": {
        "id": "eyVOA1IegG8_"
      }
    },
    {
      "cell_type": "code",
      "source": [
        "# Calcular la media de las características por cluster\n",
        "cluster_means = data.groupby('Cluster')[['Age', 'Annual Income (k$)', 'Spending Score (1-100)']].mean()\n",
        "\n",
        "# Mostrar las medias de las características por cluster\n",
        "print(\"Media de las características por cluster:\")\n",
        "print(cluster_means)"
      ],
      "metadata": {
        "id": "7mdhQi_fgcNa",
        "outputId": "1a69a5d5-38a3-4a2f-9384-d0c4efbdb5a1",
        "colab": {
          "base_uri": "https://localhost:8080/"
        }
      },
      "execution_count": null,
      "outputs": [
        {
          "output_type": "stream",
          "name": "stdout",
          "text": [
            "Media de las características por cluster:\n",
            "               Age  Annual Income (k$)  Spending Score (1-100)\n",
            "Cluster                                                       \n",
            "0        28.047059           61.788235               72.882353\n",
            "1        45.075758           57.727273               36.181818\n",
            "2        49.204082           62.244898               29.734694\n"
          ]
        }
      ]
    },
    {
      "cell_type": "markdown",
      "source": [
        "Pregunta 5: ¿Qué diferencias observas entre los clusters en términos de edad, ingreso y puntaje de gasto? ¿Qué características definen a cada grupo?\n",
        "\n"
      ],
      "metadata": {
        "id": "Fp9ZuctCgNWX"
      }
    },
    {
      "cell_type": "markdown",
      "source": [
        "Al analizar las medias de edad, ingresos y gasto, cada cluster revela un perfil de cliente diferente. Las variaciones en estas medias entre los clusters definen los segmentos: por ejemplo, un grupo joven y de alto gasto contrasta con uno mayor y de ingresos altos pero gasto moderado, proporcionando una segmentación significativa basada en estas características clave."
      ],
      "metadata": {
        "id": "v4_knVPk-rvB"
      }
    },
    {
      "cell_type": "code",
      "source": [],
      "metadata": {
        "id": "GtjBrjBsgb2O"
      },
      "execution_count": null,
      "outputs": []
    },
    {
      "cell_type": "markdown",
      "source": [
        "Parte 6: Visualización de los clusters\n",
        "Instrucciones: Grafica los clusters en un espacio bidimensional utilizando dos de las características principales (por ejemplo, edad y puntaje de gasto)."
      ],
      "metadata": {
        "id": "QYpyFNVrgSE-"
      }
    },
    {
      "cell_type": "code",
      "source": [
        "import matplotlib.pyplot as plt\n",
        "import seaborn as sns\n",
        "\n",
        "# Elegir las características para la visualización\n",
        "feature1 = 'Annual Income (k$)'\n",
        "feature2 = 'Spending Score (1-100)'\n",
        "\n",
        "# Crear el gráfico de dispersión coloreado por cluster\n",
        "plt.figure(figsize=(10, 6))\n",
        "sns.scatterplot(data=data, x=feature1, y=feature2, hue='Cluster', palette='viridis', s=60)\n",
        "\n",
        "# Graficar los centroides de los clusters\n",
        "plt.scatter(kmeans.cluster_centers_[:, data.columns.get_loc(feature1) -1],\n",
        "            kmeans.cluster_centers_[:, data.columns.get_loc(feature2) -1],\n",
        "            marker='X', s=200, color='red', label='Centroides')\n",
        "\n",
        "plt.title(f'Visualización de Clusters (Ingresos vs. Gasto)')\n",
        "plt.xlabel(feature1)\n",
        "plt.ylabel(feature2)\n",
        "plt.legend(title='Cluster')\n",
        "plt.grid(True)\n",
        "plt.show()"
      ],
      "metadata": {
        "id": "yS303gujgbj-",
        "outputId": "e8334800-71de-4a7e-a0bf-15fa3b011f4a",
        "colab": {
          "base_uri": "https://localhost:8080/",
          "height": 565
        }
      },
      "execution_count": null,
      "outputs": [
        {
          "output_type": "display_data",
          "data": {
            "text/plain": [
              "<Figure size 1000x600 with 1 Axes>"
            ],
            "image/png": "[encoded data removed]"
          },
          "metadata": {}
        }
      ]
    },
    {
      "cell_type": "markdown",
      "source": [
        "Pregunta 6: Observa la gráfica. ¿Qué patrones puedes identificar visualmente en los datos? ¿Los clientes están claramente separados en grupos?"
      ],
      "metadata": {
        "id": "V4VIvavegZX2"
      }
    },
    {
      "cell_type": "markdown",
      "source": [
        "La gráfica muestra los clientes como puntos de colores, donde cada color es un grupo. Si los puntos del mismo color están cerca y separados de otros colores, significa que los grupos son fáciles de ver y los clientes dentro de cada grupo son parecidos en cuanto a sus ingresos y cuánto gastan. Si los colores se mezclan, los grupos son menos claros."
      ],
      "metadata": {
        "id": "9pWfHLvK_oPq"
      }
    },
    {
      "cell_type": "code",
      "source": [],
      "metadata": {
        "id": "1YtDvv7Mgazg"
      },
      "execution_count": null,
      "outputs": []
    },
    {
      "cell_type": "markdown",
      "source": [
        "\n",
        "Parte 7: Interpretación y nombres de los clusters\n",
        "Instrucciones: Basado en el análisis descriptivo y la visualización, asigna nombres a los clusters que describan a cada grupo de clientes. Por ejemplo, si un grupo tiene clientes jóvenes con altos puntajes de gasto, podrías llamarlo \"Jóvenes con alto poder adquisitivo\".\n",
        "\n",
        "Pregunta 7: ¿Qué nombres asignarías a cada cluster? Justifica tu decisión basándote en las características promedio de los grupos."
      ],
      "metadata": {
        "id": "o5zaXFpjgUvS"
      }
    },
    {
      "cell_type": "markdown",
      "source": [
        "Cluster 1: \"Clientes Maduros y Ahorradores\": Justificación: Este grupo tiene una edad promedio relativamente alta, ingresos anuales moderados y el puntaje de gasto promedio más bajo, lo que sugiere un segmento de clientes mayores que son más conscientes de sus gastos.\n",
        "\n",
        "Cluster 0: \"Jóvenes de Alto Gasto\": Justificación: Este cluster se caracteriza por una edad promedio más baja, ingresos anuales altos y el puntaje de gasto promedio más alto, indicando un grupo de clientes más jóvenes con un mayor poder adquisitivo y una mayor tendencia a gastar.\n",
        "\n",
        "Cluster 2: \"Ahorradores de Ingresos Altos\": Justificación: Este grupo tiene una edad promedio media, ingresos anuales altos pero un puntaje de gasto promedio bajo, lo que sugiere un segmento de clientes con buena capacidad económica pero que no gastan tanto en el centro comercial en comparación con otros grupos de ingresos similares."
      ],
      "metadata": {
        "id": "ZwMbn1YYANyT"
      }
    },
    {
      "cell_type": "code",
      "source": [],
      "metadata": {
        "id": "nd0F4i1-dcdz"
      },
      "execution_count": null,
      "outputs": []
    }
  ]
}